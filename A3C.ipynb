{
 "cells": [
  {
   "cell_type": "code",
   "execution_count": 17,
   "metadata": {},
   "outputs": [],
   "source": [
    "\n",
    "\n",
    "\n",
    "import torch\n",
    "import torch.nn as nn\n",
    "import torch.nn.functional as F\n",
    "import torch.optim as optim\n",
    "\n",
    "import numpy as np\n",
    "import matplotlib.pyplot as plt\n",
    "\n",
    "import GridWorld_env\n",
    "import gymnasium as gym\n",
    "import random\n",
    "\n",
    "import torch.multiprocessing as mp"
   ]
  },
  {
   "cell_type": "code",
   "execution_count": 18,
   "metadata": {},
   "outputs": [],
   "source": [
    "\n",
    "# shared environment of [E1, E2, ... En] where Ei belongs to agent i\n",
    "class sharedEnvironment:\n",
    "    def __init__(self, state_dim, num_agents):\n",
    "        self.state_dim = state_dim\n",
    "        self.num_agents = num_agents\n",
    "        # initialize the shared enviroinment = [E1, E2, ... En]\n",
    "        self.env = [gym.make('GridWorld_env/GridWorld', dimension_size=state_dim) for i in range(num_agents)]\n",
    "\n",
    "        for i in range(num_agents):\n",
    "            self.env[i].reset()\n",
    "        \n",
    "    \n",
    "    def getEnv(self, agentID):\n",
    "        # todo, return shared environement \n",
    "        if (agentID < 0 or agentID >= self.num_agents):\n",
    "            raise ValueError(\"Invalid agent ID\")\n",
    "        return self.env[agentID]\n",
    "\n",
    "    def getOtherAgentsPos(self, agentID):\n",
    "        # return the xor of all the other agents position except agentID\n",
    "        otherAgentsPos = np.zeros((self.state_dim, self.state_dim, self.state_dim), dtype=int)\n",
    "\n",
    "        for i in range(self.num_agents):\n",
    "            if i != agentID:\n",
    "                otherAgentsPos[self.env[i].agent_pos[0], self.env[i].agent_pos[1], self.env[i].agent_pos[2]] = 1\n",
    "        toTensor = torch.tensor(otherAgentsPos).float()\n",
    "        return toTensor \n",
    "\n",
    "    \n",
    "\n",
    "    \n",
    "\n",
    "\n",
    "class ActorCritic(nn.Module):\n",
    "    # input dim (N, N, N, 4)  = (building zone, target, agentpos, other agent pos)\n",
    "    def __init__(self, state_dim, action_dim):\n",
    "        # state_dim^3 is the state space\n",
    "        super(ActorCritic, self).__init__()\n",
    "\n",
    "        self.state_dim = state_dim    \n",
    "        self.action_dim = action_dim\n",
    "\n",
    "\n",
    "        # just trying to replicate the paper\n",
    "        self.leftConv = nn.Sequential(\n",
    "            # todo: 1st layer conv should cut down the state dim in half. eg (10, 10, 10, 3) -> (5, 5, 5, 64)\n",
    "            nn.Conv3d(in_channels=4, out_channels=64, kernel_size=3, stride=2, padding=1)  ,\n",
    "            nn.Conv3d(in_channels = 64, out_channels = 128, kernel_size = 3, stride = 1, padding = 1),\n",
    "            nn.Conv3d(in_channels = 128, out_channels = 256, kernel_size = 3, stride = 2, padding = 1),\n",
    "            nn.Conv3d(in_channels = 256, out_channels = 512, kernel_size = 3, stride = 2, padding = 1)\n",
    "        )\n",
    "\n",
    "        self.rightConv = nn.Sequential(\n",
    "\n",
    "        )\n",
    "\n",
    "\n",
    "        self.fc1 = nn.Linear(512, 512)\n",
    "\n",
    "        # we can experiment with h0 and c0 later\n",
    "        self.lstm = nn.LSTMCell(512, 512)\n",
    "\n",
    "\n",
    "        self.policy = nn.Linear(512, action_dim)\n",
    "        self.value = nn.Linear(512, 1)\n",
    "\n",
    "        self.isBuilt = nn.Linear(512, 1)  # 1 if the building is built, 0 otherwise\n",
    "    \n",
    "\n",
    "\n",
    "    def forward(self, state):\n",
    "        x, (hx, cx) = state\n",
    "\n",
    "\n",
    "        x = F.relu(self.leftConv(x));        \n",
    "\n",
    "        # flatten dim to  [1, x.shape[0]*x.shape[1]*x.shape[2]*x.shape[3]\n",
    "        x = x.view(-1, x.shape[0]*x.shape[1]*x.shape[2]*x.shape[3])\n",
    "        x = F.relu(self.fc1(x))\n",
    "        x = F.relu(self.fc1(x))\n",
    "\n",
    "        hx, cx = self.lstm(x, (hx, cx))\n",
    "\n",
    "        x = hx\n",
    "        return self.policy(x), self.value(x), self.isBuilt(x), (hx, cx)\n",
    "\n",
    "\n",
    "\n"
   ]
  },
  {
   "cell_type": "code",
   "execution_count": 19,
   "metadata": {},
   "outputs": [
    {
     "name": "stdout",
     "output_type": "stream",
     "text": [
      "policy shape  torch.Size([1, 7])\n",
      "value shape  torch.Size([1, 1])\n",
      "isBuilt shape  torch.Size([1, 1])\n"
     ]
    },
    {
     "name": "stderr",
     "output_type": "stream",
     "text": [
      "/home/truong/Documents/pytorch/myv/lib/python3.10/site-packages/gymnasium/core.py:311: UserWarning: \u001b[33mWARN: env.agent_pos to get variables from other wrappers is deprecated and will be removed in v1.0, to get this variable you can do `env.unwrapped.agent_pos` for environment variables or `env.get_wrapper_attr('agent_pos')` that will search the reminding wrappers.\u001b[0m\n",
      "  logger.warn(\n"
     ]
    }
   ],
   "source": [
    "\n",
    "# TEST ENVIRONMENT and AC network\n",
    "sharedE = sharedEnvironment(state_dim=4, num_agents=2)\n",
    "testA3c = ActorCritic(state_dim=4, action_dim=7)\n",
    "\n",
    "env1 = sharedE.getEnv(0)\n",
    "state, _, _, _, _ = env1.unwrapped.step(0)\n",
    "state = torch.tensor(state).float()\n",
    "otherAgentsPost = sharedE.getOtherAgentsPos(0)\n",
    "# make otherAgentsPost [4, 4, 4]-> [1, 4, 4, 4]\n",
    "otherAgentsPost = otherAgentsPost.unsqueeze(0)\n",
    "\n",
    "\n",
    "# NN TEST\n",
    "fourChannelState = torch.cat((state, otherAgentsPost), dim=0)\n",
    "\n",
    "hx = torch.zeros(1, 512)\n",
    "cx = torch.zeros(1, 512)\n",
    "input = (fourChannelState, (hx, cx))\n",
    "policy, value, isBuilt, (hx, cx) = testA3c(input)\n",
    "print(\"policy shape \", policy.shape)\n",
    "print(\"value shape \", value.shape)\n",
    "print(\"isBuilt shape \", isBuilt.shape)"
   ]
  },
  {
   "cell_type": "code",
   "execution_count": 27,
   "metadata": {},
   "outputs": [
    {
     "ename": "NameNotFound",
     "evalue": "Environment `SharedGridWorld` doesn't exist.",
     "output_type": "error",
     "traceback": [
      "\u001b[0;31m---------------------------------------------------------------------------\u001b[0m",
      "\u001b[0;31mNameNotFound\u001b[0m                              Traceback (most recent call last)",
      "Cell \u001b[0;32mIn[27], line 9\u001b[0m\n\u001b[1;32m      6\u001b[0m STEP_SIZE \u001b[38;5;241m=\u001b[39m \u001b[38;5;241m0.0001\u001b[39m\n\u001b[1;32m      8\u001b[0m \u001b[38;5;66;03m# craete gym shared environment\u001b[39;00m\n\u001b[0;32m----> 9\u001b[0m env \u001b[38;5;241m=\u001b[39m \u001b[43mgym\u001b[49m\u001b[38;5;241;43m.\u001b[39;49m\u001b[43mmake\u001b[49m\u001b[43m(\u001b[49m\u001b[38;5;124;43m'\u001b[39;49m\u001b[38;5;124;43mSharedGridWorld-v0\u001b[39;49m\u001b[38;5;124;43m'\u001b[39;49m\u001b[43m,\u001b[49m\u001b[43m \u001b[49m\u001b[43mstate_dim\u001b[49m\u001b[38;5;241;43m=\u001b[39;49m\u001b[43mstate_dim\u001b[49m\u001b[43m,\u001b[49m\u001b[43m \u001b[49m\u001b[43mnum_agents\u001b[49m\u001b[38;5;241;43m=\u001b[39;49m\u001b[43mnum_agents\u001b[49m\u001b[43m)\u001b[49m\n",
      "File \u001b[0;32m~/Documents/pytorch/myv/lib/python3.10/site-packages/gymnasium/envs/registration.py:741\u001b[0m, in \u001b[0;36mmake\u001b[0;34m(id, max_episode_steps, autoreset, apply_api_compatibility, disable_env_checker, **kwargs)\u001b[0m\n\u001b[1;32m    738\u001b[0m     \u001b[38;5;28;01massert\u001b[39;00m \u001b[38;5;28misinstance\u001b[39m(\u001b[38;5;28mid\u001b[39m, \u001b[38;5;28mstr\u001b[39m)\n\u001b[1;32m    740\u001b[0m     \u001b[38;5;66;03m# The environment name can include an unloaded module in \"module:env_name\" style\u001b[39;00m\n\u001b[0;32m--> 741\u001b[0m     env_spec \u001b[38;5;241m=\u001b[39m \u001b[43m_find_spec\u001b[49m\u001b[43m(\u001b[49m\u001b[38;5;28;43mid\u001b[39;49m\u001b[43m)\u001b[49m\n\u001b[1;32m    743\u001b[0m \u001b[38;5;28;01massert\u001b[39;00m \u001b[38;5;28misinstance\u001b[39m(env_spec, EnvSpec)\n\u001b[1;32m    745\u001b[0m \u001b[38;5;66;03m# Update the env spec kwargs with the `make` kwargs\u001b[39;00m\n",
      "File \u001b[0;32m~/Documents/pytorch/myv/lib/python3.10/site-packages/gymnasium/envs/registration.py:527\u001b[0m, in \u001b[0;36m_find_spec\u001b[0;34m(env_id)\u001b[0m\n\u001b[1;32m    521\u001b[0m     logger\u001b[38;5;241m.\u001b[39mwarn(\n\u001b[1;32m    522\u001b[0m         \u001b[38;5;124mf\u001b[39m\u001b[38;5;124m\"\u001b[39m\u001b[38;5;124mUsing the latest versioned environment `\u001b[39m\u001b[38;5;132;01m{\u001b[39;00mnew_env_id\u001b[38;5;132;01m}\u001b[39;00m\u001b[38;5;124m` \u001b[39m\u001b[38;5;124m\"\u001b[39m\n\u001b[1;32m    523\u001b[0m         \u001b[38;5;124mf\u001b[39m\u001b[38;5;124m\"\u001b[39m\u001b[38;5;124minstead of the unversioned environment `\u001b[39m\u001b[38;5;132;01m{\u001b[39;00menv_name\u001b[38;5;132;01m}\u001b[39;00m\u001b[38;5;124m`.\u001b[39m\u001b[38;5;124m\"\u001b[39m\n\u001b[1;32m    524\u001b[0m     )\n\u001b[1;32m    526\u001b[0m \u001b[38;5;28;01mif\u001b[39;00m env_spec \u001b[38;5;129;01mis\u001b[39;00m \u001b[38;5;28;01mNone\u001b[39;00m:\n\u001b[0;32m--> 527\u001b[0m     \u001b[43m_check_version_exists\u001b[49m\u001b[43m(\u001b[49m\u001b[43mns\u001b[49m\u001b[43m,\u001b[49m\u001b[43m \u001b[49m\u001b[43mname\u001b[49m\u001b[43m,\u001b[49m\u001b[43m \u001b[49m\u001b[43mversion\u001b[49m\u001b[43m)\u001b[49m\n\u001b[1;32m    528\u001b[0m     \u001b[38;5;28;01mraise\u001b[39;00m error\u001b[38;5;241m.\u001b[39mError(\n\u001b[1;32m    529\u001b[0m         \u001b[38;5;124mf\u001b[39m\u001b[38;5;124m\"\u001b[39m\u001b[38;5;124mNo registered env with id: \u001b[39m\u001b[38;5;132;01m{\u001b[39;00menv_name\u001b[38;5;132;01m}\u001b[39;00m\u001b[38;5;124m. Did you register it, or import the package that registers it? Use `gymnasium.pprint_registry()` to see all of the registered environments.\u001b[39m\u001b[38;5;124m\"\u001b[39m\n\u001b[1;32m    530\u001b[0m     )\n\u001b[1;32m    532\u001b[0m \u001b[38;5;28;01mreturn\u001b[39;00m env_spec\n",
      "File \u001b[0;32m~/Documents/pytorch/myv/lib/python3.10/site-packages/gymnasium/envs/registration.py:393\u001b[0m, in \u001b[0;36m_check_version_exists\u001b[0;34m(ns, name, version)\u001b[0m\n\u001b[1;32m    390\u001b[0m \u001b[38;5;28;01mif\u001b[39;00m get_env_id(ns, name, version) \u001b[38;5;129;01min\u001b[39;00m registry:\n\u001b[1;32m    391\u001b[0m     \u001b[38;5;28;01mreturn\u001b[39;00m\n\u001b[0;32m--> 393\u001b[0m \u001b[43m_check_name_exists\u001b[49m\u001b[43m(\u001b[49m\u001b[43mns\u001b[49m\u001b[43m,\u001b[49m\u001b[43m \u001b[49m\u001b[43mname\u001b[49m\u001b[43m)\u001b[49m\n\u001b[1;32m    394\u001b[0m \u001b[38;5;28;01mif\u001b[39;00m version \u001b[38;5;129;01mis\u001b[39;00m \u001b[38;5;28;01mNone\u001b[39;00m:\n\u001b[1;32m    395\u001b[0m     \u001b[38;5;28;01mreturn\u001b[39;00m\n",
      "File \u001b[0;32m~/Documents/pytorch/myv/lib/python3.10/site-packages/gymnasium/envs/registration.py:370\u001b[0m, in \u001b[0;36m_check_name_exists\u001b[0;34m(ns, name)\u001b[0m\n\u001b[1;32m    367\u001b[0m namespace_msg \u001b[38;5;241m=\u001b[39m \u001b[38;5;124mf\u001b[39m\u001b[38;5;124m\"\u001b[39m\u001b[38;5;124m in namespace \u001b[39m\u001b[38;5;132;01m{\u001b[39;00mns\u001b[38;5;132;01m}\u001b[39;00m\u001b[38;5;124m\"\u001b[39m \u001b[38;5;28;01mif\u001b[39;00m ns \u001b[38;5;28;01melse\u001b[39;00m \u001b[38;5;124m\"\u001b[39m\u001b[38;5;124m\"\u001b[39m\n\u001b[1;32m    368\u001b[0m suggestion_msg \u001b[38;5;241m=\u001b[39m \u001b[38;5;124mf\u001b[39m\u001b[38;5;124m\"\u001b[39m\u001b[38;5;124m Did you mean: `\u001b[39m\u001b[38;5;132;01m{\u001b[39;00msuggestion[\u001b[38;5;241m0\u001b[39m]\u001b[38;5;132;01m}\u001b[39;00m\u001b[38;5;124m`?\u001b[39m\u001b[38;5;124m\"\u001b[39m \u001b[38;5;28;01mif\u001b[39;00m suggestion \u001b[38;5;28;01melse\u001b[39;00m \u001b[38;5;124m\"\u001b[39m\u001b[38;5;124m\"\u001b[39m\n\u001b[0;32m--> 370\u001b[0m \u001b[38;5;28;01mraise\u001b[39;00m error\u001b[38;5;241m.\u001b[39mNameNotFound(\n\u001b[1;32m    371\u001b[0m     \u001b[38;5;124mf\u001b[39m\u001b[38;5;124m\"\u001b[39m\u001b[38;5;124mEnvironment `\u001b[39m\u001b[38;5;132;01m{\u001b[39;00mname\u001b[38;5;132;01m}\u001b[39;00m\u001b[38;5;124m` doesn\u001b[39m\u001b[38;5;124m'\u001b[39m\u001b[38;5;124mt exist\u001b[39m\u001b[38;5;132;01m{\u001b[39;00mnamespace_msg\u001b[38;5;132;01m}\u001b[39;00m\u001b[38;5;124m.\u001b[39m\u001b[38;5;132;01m{\u001b[39;00msuggestion_msg\u001b[38;5;132;01m}\u001b[39;00m\u001b[38;5;124m\"\u001b[39m\n\u001b[1;32m    372\u001b[0m )\n",
      "\u001b[0;31mNameNotFound\u001b[0m: Environment `SharedGridWorld` doesn't exist."
     ]
    }
   ],
   "source": [
    "#param\n",
    "num_agents = 1\n",
    "num_episodes = 1000\n",
    "state_dim = 4\n",
    "action_dim = 7\n",
    "STEP_SIZE = 0.0001\n",
    "\n",
    "# craete gym shared environment\n",
    "env = gym.make('SharedGridWorld-v0', state_dim=state_dim, num_agents=num_agents)\n"
   ]
  },
  {
   "cell_type": "code",
   "execution_count": 25,
   "metadata": {},
   "outputs": [],
   "source": [
    "# thread function\n",
    "def agentTrain(index: int , globalNet, optimizer, device):\n",
    "    \n",
    "    # create local network\n",
    "    localNet = ActorCritic(state_dim, action_dim)\n",
    "\n",
    "    localNet.to(device)\n",
    "    localNet.train()\n",
    "\n",
    "\n",
    "    state = env.unwrapped.get_obs(index);\n",
    "    state = torch.tensor(state, device=device, dtype=torch.float32)\n",
    "    print(state.shape)"
   ]
  },
  {
   "cell_type": "code",
   "execution_count": 26,
   "metadata": {},
   "outputs": [
    {
     "name": "stderr",
     "output_type": "stream",
     "text": [
      "Process Process-2:\n",
      "Traceback (most recent call last):\n",
      "  File \"/usr/lib/python3.10/multiprocessing/process.py\", line 314, in _bootstrap\n",
      "    self.run()\n",
      "  File \"/usr/lib/python3.10/multiprocessing/process.py\", line 108, in run\n",
      "    self._target(*self._args, **self._kwargs)\n",
      "  File \"/tmp/ipykernel_22111/1200737808.py\", line 11, in agentTrain\n",
      "    state = env.unwrapped.get_obs(index);\n",
      "AttributeError: 'sharedEnvironment' object has no attribute 'unwrapped'\n"
     ]
    }
   ],
   "source": [
    "def globalTrain(numAgents):\n",
    "    # master thread\n",
    "\n",
    "    # create shared environment\n",
    "    globalNet = ActorCritic(state_dim=state_dim, action_dim=action_dim)\n",
    "\n",
    "\n",
    "    # use cuda  if available\n",
    "    device =    torch.device(\"cuda\" if torch.cuda.is_available() else \"cpu\")\n",
    "    globalNet.to(device)\n",
    "    globalNet.share_memory()\n",
    "    optimizer = optim.Adam(globalNet.parameters(), lr=STEP_SIZE)\n",
    "\n",
    "    # create agents\n",
    "    agents = []\n",
    "\n",
    "    for i in range(numAgents):\n",
    "        agents.append(mp.Process(target=agentTrain, args=(i, globalNet, optimizer, device)))\n",
    "        agents[i].start()\n",
    "\n",
    "    for agent in agents:\n",
    "        agent.join()\n",
    "    pass\n",
    "\n",
    "globalTrain(1)"
   ]
  }
 ],
 "metadata": {
  "kernelspec": {
   "display_name": "myv",
   "language": "python",
   "name": "python3"
  },
  "language_info": {
   "codemirror_mode": {
    "name": "ipython",
    "version": 3
   },
   "file_extension": ".py",
   "mimetype": "text/x-python",
   "name": "python",
   "nbconvert_exporter": "python",
   "pygments_lexer": "ipython3",
   "version": "3.10.12"
  }
 },
 "nbformat": 4,
 "nbformat_minor": 2
}
