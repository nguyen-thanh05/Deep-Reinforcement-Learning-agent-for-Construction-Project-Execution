{
 "cells": [
  {
   "cell_type": "code",
   "execution_count": 1,
   "metadata": {},
   "outputs": [],
   "source": [
    "\n",
    "\n",
    "\n",
    "import torch\n",
    "import torch.nn as nn\n",
    "import torch.nn.functional as F\n",
    "import torch.optim as optim\n",
    "\n",
    "import numpy as np\n",
    "import matplotlib.pyplot as plt\n",
    "\n",
    "import GridWorld_env\n",
    "import gymnasium as gym\n",
    "import random"
   ]
  },
  {
   "cell_type": "code",
   "execution_count": 18,
   "metadata": {},
   "outputs": [
    {
     "name": "stdout",
     "output_type": "stream",
     "text": [
      "torch.Size([4, 4, 4, 4])  is shape of 4 chanelstate\n",
      "torch.Size([256, 2, 2, 2])  is shape of forwardOut\n"
     ]
    }
   ],
   "source": [
    "\n",
    "# shared environment of [E1, E2, ... En] where Ei belongs to agent i\n",
    "class sharedEnvironment:\n",
    "    def __init__(self, state_dim, num_agents):\n",
    "        self.state_dim = state_dim\n",
    "        self.num_agents = num_agents\n",
    "        # initialize the shared enviroinment = [E1, E2, ... En]\n",
    "        self.env = [gym.make('GridWorld_env/GridWorld', dimension_size=state_dim) for i in range(num_agents)]\n",
    "\n",
    "        for i in range(num_agents):\n",
    "            self.env[i].reset()\n",
    "        \n",
    "    \n",
    "    def getEnv(self, agentID):\n",
    "        # todo, return shared environement \n",
    "        if (agentID < 0 or agentID >= self.num_agents):\n",
    "            raise ValueError(\"Invalid agent ID\")\n",
    "        return self.env[agentID]\n",
    "\n",
    "    def getOtherAgentsPos(self, agentID):\n",
    "        # return the xor of all the other agents position except agentID\n",
    "        otherAgentsPos = np.zeros((self.state_dim, self.state_dim, self.state_dim), dtype=int)\n",
    "\n",
    "        for i in range(self.num_agents):\n",
    "            if i != agentID:\n",
    "                otherAgentsPos[self.env[i].agent_pos[0], self.env[i].agent_pos[1], self.env[i].agent_pos[2]] = 1\n",
    "        toTensor = torch.tensor(otherAgentsPos).float()\n",
    "        return toTensor \n",
    "\n",
    "    \n",
    "\n",
    "    \n",
    "\n",
    "\n",
    "class ActorCritic(nn.Module):\n",
    "    # input dim (N, N, N, 4)  = (building zone, target, agentpos, other agent pos)\n",
    "    def __init__(self, state_dim, action_dim):\n",
    "        # state_dim^3 is the state space\n",
    "        super(ActorCritic, self).__init__()\n",
    "\n",
    "        self.state_dim = state_dim    \n",
    "        self.action_dim = action_dim\n",
    "\n",
    "\n",
    "        # just trying to replicate the paper\n",
    "        self.leftConv = nn.Sequential(\n",
    "            # todo: 1st layer conv should cut down the state dim in half. eg (10, 10, 10, 3) -> (5, 5, 5, 64)\n",
    "            nn.Conv3d(in_channels=4, out_channels=64, kernel_size=3, stride=2, padding=1)  ,\n",
    "            nn.Conv3d(in_channels = 64, out_channels = 128, kernel_size = 3, stride = 1, padding = 1),\n",
    "            nn.Conv3d(in_channels = 128, out_channels = 256, kernel_size = 3, stride = 2, padding = 1)\n",
    "        )\n",
    "\n",
    "        self.rightConv = nn.Sequential(\n",
    "\n",
    "        )\n",
    "\n",
    "    def forward(self, state):\n",
    "        x = self.leftConv(state);        \n",
    "        return x \n",
    "\n",
    "\n",
    "sharedE = sharedEnvironment(state_dim=4, num_agents=2)\n",
    "testA3c = ActorCritic(state_dim=4, action_dim=7)\n",
    "\n",
    "env1 = sharedE.getEnv(0)\n",
    "state, _, _, _, _ = env1.unwrapped.step(0)\n",
    "state = torch.tensor(state).float()\n",
    "otherAgentsPost = sharedE.getOtherAgentsPos(0)\n",
    "# make otherAgentsPost [4, 4, 4]-> [1, 4, 4, 4]\n",
    "otherAgentsPost = otherAgentsPost.unsqueeze(0)\n",
    "fourChannelState = torch.cat((state, otherAgentsPost), dim=0)\n",
    "print(fourChannelState.shape, \" is shape of 4 chanelstate\")\n",
    "\n",
    "\n",
    "forwardOut = testA3c(fourChannelState)\n",
    "print(forwardOut.shape, \" is shape of forwardOut\")\n"
   ]
  },
  {
   "cell_type": "code",
   "execution_count": null,
   "metadata": {},
   "outputs": [],
   "source": [
    "# thread function\n",
    "def agentTrain(index: int , globalNet, optimizer):\n",
    "    \n",
    "\n",
    "    pass\n",
    "    "
   ]
  },
  {
   "cell_type": "code",
   "execution_count": null,
   "metadata": {},
   "outputs": [],
   "source": [
    "def globalTrain(numAgents):\n",
    "    # master thread\n",
    "\n",
    "    \n",
    "    pass"
   ]
  }
 ],
 "metadata": {
  "kernelspec": {
   "display_name": "myv",
   "language": "python",
   "name": "python3"
  },
  "language_info": {
   "codemirror_mode": {
    "name": "ipython",
    "version": 3
   },
   "file_extension": ".py",
   "mimetype": "text/x-python",
   "name": "python",
   "nbconvert_exporter": "python",
   "pygments_lexer": "ipython3",
   "version": "3.10.12"
  }
 },
 "nbformat": 4,
 "nbformat_minor": 2
}
