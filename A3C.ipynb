{
 "cells": [
  {
   "cell_type": "code",
   "execution_count": 1,
   "metadata": {},
   "outputs": [],
   "source": [
    "\n",
    "\n",
    "\n",
    "import torch\n",
    "import torch.nn as nn\n",
    "import torch.nn.functional as F\n",
    "import torch.optim as optim\n",
    "\n",
    "import numpy as np\n",
    "import matplotlib.pyplot as plt\n",
    "\n",
    "import GridWorld_env\n",
    "import gymnasium as gym\n",
    "import random"
   ]
  },
  {
   "cell_type": "code",
   "execution_count": 4,
   "metadata": {},
   "outputs": [
    {
     "name": "stdout",
     "output_type": "stream",
     "text": [
      "[[[1 0 0 0]\n",
      "  [0 0 0 0]\n",
      "  [0 0 0 0]\n",
      "  [0 0 0 0]]\n",
      "\n",
      " [[0 0 0 0]\n",
      "  [0 0 0 0]\n",
      "  [0 0 0 0]\n",
      "  [0 0 0 0]]\n",
      "\n",
      " [[0 0 0 0]\n",
      "  [0 0 0 0]\n",
      "  [0 0 0 0]\n",
      "  [0 0 0 0]]\n",
      "\n",
      " [[0 0 0 0]\n",
      "  [0 0 0 0]\n",
      "  [0 0 0 0]\n",
      "  [0 0 0 0]]]\n"
     ]
    },
    {
     "name": "stderr",
     "output_type": "stream",
     "text": [
      "/home/truong/Documents/pytorch/myv/lib/python3.10/site-packages/gymnasium/core.py:311: UserWarning: \u001b[33mWARN: env.agent_pos to get variables from other wrappers is deprecated and will be removed in v1.0, to get this variable you can do `env.unwrapped.agent_pos` for environment variables or `env.get_wrapper_attr('agent_pos')` that will search the reminding wrappers.\u001b[0m\n",
      "  logger.warn(\n"
     ]
    }
   ],
   "source": [
    "\n",
    "# shared environment of [E1, E2, ... En] where Ei belongs to agent i\n",
    "class sharedEnvironment:\n",
    "    def __init__(self, state_dim, num_agents):\n",
    "        self.state_dim = state_dim\n",
    "        self.num_agents = num_agents\n",
    "        # initialize the shared enviroinment = [E1, E2, ... En]\n",
    "        self.env = [gym.make('GridWorld_env/GridWorld', dimension_size=state_dim) for i in range(num_agents)]\n",
    "\n",
    "        for i in range(num_agents):\n",
    "            self.env[i].reset()\n",
    "        \n",
    "    \n",
    "    def getEnv(self, agentID):\n",
    "        # todo, return shared environement \n",
    "        if (agentID < 0 or agentID >= self.num_agents):\n",
    "            raise ValueError(\"Invalid agent ID\")\n",
    "        return self.env[agentID]\n",
    "\n",
    "    def getOtherAgentsPos(self, agentID):\n",
    "        # return the xor of all the other agents position except agentID\n",
    "        otherAgentsPos = np.zeros((self.state_dim, self.state_dim, self.state_dim), dtype=int)\n",
    "\n",
    "        for i in range(self.num_agents):\n",
    "            if i != agentID:\n",
    "                otherAgentsPos[self.env[i].agent_pos[0], self.env[i].agent_pos[1], self.env[i].agent_pos[2]] = 1\n",
    "        return otherAgentsPos\n",
    "\n",
    "    \n",
    "\n",
    "\n",
    "class ActorCritic(nn.Module):\n",
    "    # input dim (N, N, N, 5)  = (building zone, target, agentpos, other agent pos)\n",
    "    def __init__(self, state_dim, action_dim):\n",
    "        # state_dim^3 is the state space\n",
    "        super(ActorCritic, self).__init__()\n",
    "\n",
    "        self.state_dim = state_dim    \n",
    "        self.action_dim = action_dim\n",
    "\n",
    "\n",
    "        # just trying to replicate the paper\n",
    "        self.leftConv = nn.Sequential(\n",
    "            # todo: 1st layer conv should cut down the state dim in half. eg (10, 10, 10, 3) -> (5, 5, 5, 64)\n",
    "            nn.Conv3d(in_channels=4, out_channels=64, kernel_size=3, stride=1, padding=1)  ,\n",
    "            nn.Conv3d(in_channels = 64, out_channels = 128, kernel_size = 3, stride = 1, padding = 1),\n",
    "            nn.Conv3d(in_channels = 128, out_channels = 256, kernel_size = 3, stride = 1, padding = 1)\n",
    "        )\n",
    "\n",
    "        self.rightConv = nn.Sequential(\n",
    "\n",
    "        )\n",
    "\n",
    "    def forward(self, state):\n",
    "        x = self.leftConv(state);        \n",
    "        pass\n",
    "\n",
    "sharedE = sharedEnvironment(state_dim=4, num_agents=2)\n",
    "testA3c = ActorCritic(state_dim=4, action_dim=7)\n",
    "\n",
    "print(sharedE.getOtherAgentsPos(0))\n",
    "\n",
    "env1 = sharedE.getEnv(0)\n",
    "\n"
   ]
  },
  {
   "cell_type": "code",
   "execution_count": null,
   "metadata": {},
   "outputs": [],
   "source": []
  },
  {
   "cell_type": "code",
   "execution_count": null,
   "metadata": {},
   "outputs": [],
   "source": []
  }
 ],
 "metadata": {
  "kernelspec": {
   "display_name": "myv",
   "language": "python",
   "name": "python3"
  },
  "language_info": {
   "codemirror_mode": {
    "name": "ipython",
    "version": 3
   },
   "file_extension": ".py",
   "mimetype": "text/x-python",
   "name": "python",
   "nbconvert_exporter": "python",
   "pygments_lexer": "ipython3",
   "version": "3.10.12"
  }
 },
 "nbformat": 4,
 "nbformat_minor": 2
}
