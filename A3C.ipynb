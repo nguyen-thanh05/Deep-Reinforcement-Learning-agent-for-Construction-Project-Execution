{
 "cells": [
  {
   "cell_type": "code",
   "execution_count": 2,
   "metadata": {},
   "outputs": [],
   "source": [
    "\n",
    "\n",
    "\n",
    "import torch\n",
    "import torch.nn as nn\n",
    "import torch.nn.functional as F\n",
    "import torch.optim as optim\n",
    "\n",
    "import numpy as np\n",
    "import matplotlib.pyplot as plt\n",
    "\n",
    "import GridWorld_env\n",
    "import gymnasium as gym\n",
    "import random"
   ]
  },
  {
   "cell_type": "code",
   "execution_count": 10,
   "metadata": {},
   "outputs": [
    {
     "name": "stderr",
     "output_type": "stream",
     "text": [
      "/home/truong/Documents/pytorch/myv/lib/python3.10/site-packages/gymnasium/core.py:311: UserWarning: \u001b[33mWARN: env.agent_pos to get variables from other wrappers is deprecated and will be removed in v1.0, to get this variable you can do `env.unwrapped.agent_pos` for environment variables or `env.get_wrapper_attr('agent_pos')` that will search the reminding wrappers.\u001b[0m\n",
      "  logger.warn(\n"
     ]
    },
    {
     "ename": "ValueError",
     "evalue": "operands could not be broadcast together with shapes (4,4,4) (3,) ",
     "output_type": "error",
     "traceback": [
      "\u001b[0;31m---------------------------------------------------------------------------\u001b[0m",
      "\u001b[0;31mValueError\u001b[0m                                Traceback (most recent call last)",
      "Cell \u001b[0;32mIn[10], line 59\u001b[0m\n\u001b[1;32m     56\u001b[0m sharedE \u001b[38;5;241m=\u001b[39m sharedEnvironment(state_dim\u001b[38;5;241m=\u001b[39m\u001b[38;5;241m4\u001b[39m, num_agents\u001b[38;5;241m=\u001b[39m\u001b[38;5;241m2\u001b[39m)\n\u001b[1;32m     57\u001b[0m testA3c \u001b[38;5;241m=\u001b[39m ActorCritic(state_dim\u001b[38;5;241m=\u001b[39m\u001b[38;5;241m4\u001b[39m, action_dim\u001b[38;5;241m=\u001b[39m\u001b[38;5;241m7\u001b[39m)\n\u001b[0;32m---> 59\u001b[0m \u001b[38;5;28mprint\u001b[39m(\u001b[43msharedE\u001b[49m\u001b[38;5;241;43m.\u001b[39;49m\u001b[43motherAgentsPos\u001b[49m\u001b[43m(\u001b[49m\u001b[38;5;241;43m0\u001b[39;49m\u001b[43m)\u001b[49m)\n\u001b[1;32m     61\u001b[0m env1 \u001b[38;5;241m=\u001b[39m sharedE\u001b[38;5;241m.\u001b[39mgetEnv(\u001b[38;5;241m0\u001b[39m)\n",
      "Cell \u001b[0;32mIn[10], line 23\u001b[0m, in \u001b[0;36msharedEnvironment.otherAgentsPos\u001b[0;34m(self, agentID)\u001b[0m\n\u001b[1;32m     21\u001b[0m \u001b[38;5;28;01mfor\u001b[39;00m i \u001b[38;5;129;01min\u001b[39;00m \u001b[38;5;28mrange\u001b[39m(\u001b[38;5;28mself\u001b[39m\u001b[38;5;241m.\u001b[39mnum_agents):\n\u001b[1;32m     22\u001b[0m     \u001b[38;5;28;01mif\u001b[39;00m i \u001b[38;5;241m!=\u001b[39m agentID:\n\u001b[0;32m---> 23\u001b[0m         otherAgentsPos \u001b[38;5;241m=\u001b[39m \u001b[43mnp\u001b[49m\u001b[38;5;241;43m.\u001b[39;49m\u001b[43mlogical_xor\u001b[49m\u001b[43m(\u001b[49m\u001b[43motherAgentsPos\u001b[49m\u001b[43m,\u001b[49m\u001b[43m \u001b[49m\u001b[38;5;28;43mself\u001b[39;49m\u001b[38;5;241;43m.\u001b[39;49m\u001b[43menv\u001b[49m\u001b[43m[\u001b[49m\u001b[43mi\u001b[49m\u001b[43m]\u001b[49m\u001b[38;5;241;43m.\u001b[39;49m\u001b[43magent_pos\u001b[49m\u001b[43m)\u001b[49m\n\u001b[1;32m     25\u001b[0m \u001b[38;5;28;01mreturn\u001b[39;00m otherAgentsPos\n",
      "\u001b[0;31mValueError\u001b[0m: operands could not be broadcast together with shapes (4,4,4) (3,) "
     ]
    }
   ],
   "source": [
    "\n",
    "class sharedEnvironment:\n",
    "    def __init__(self, state_dim, num_agents):\n",
    "        self.state_dim = state_dim\n",
    "        self.num_agents = num_agents\n",
    "        # todo: initialize the shared enviroinment = [E1, E2, ... En]\n",
    "        self.env = [gym.make('GridWorld_env/GridWorld', dimension_size=state_dim) for i in range(num_agents)]\n",
    "\n",
    "        for i in range(num_agents):\n",
    "            self.env[i].reset()\n",
    "        \n",
    "    \n",
    "    def getEnv(self, agentID):\n",
    "        # todo, return shared environement \n",
    "        if (agentID < 0 or agentID >= self.num_agents):\n",
    "            raise ValueError(\"Invalid agent ID\")\n",
    "        return self.env[agentID]\n",
    "\n",
    "    def otherAgentsPos(self, agentID):\n",
    "        # return the xor of all the other agents position except agentID\n",
    "        otherAgentsPos = np.zeros((self.state_dim, self.state_dim, self.state_dim))\n",
    "        for i in range(self.num_agents):\n",
    "            if i != agentID:\n",
    "                #otherAgentsPos = np.logical_xor(otherAgentsPos, self.env[i].agent_pos)\n",
    "                pass\n",
    "        \n",
    "        return otherAgentsPos\n",
    "\n",
    "    \n",
    "\n",
    "\n",
    "class ActorCritic(nn.Module):\n",
    "    # input dim (N, N, N, 4)  = (building zone, target, agentpos, other agent pos)\n",
    "    def __init__(self, state_dim, action_dim):\n",
    "        # state_dim^3 is the state space\n",
    "        super(ActorCritic, self).__init__()\n",
    "\n",
    "        self.state_dim = state_dim    \n",
    "        self.action_dim = action_dim\n",
    "\n",
    "\n",
    "        # just trying to replicate the paper\n",
    "        self.leftConv = nn.Sequential(\n",
    "            # todo: 1st layer conv should cut down the state dim in half. eg (10, 10, 10, 3) -> (5, 5, 5, 64)\n",
    "            nn.Conv3d(in_channels=4, out_channels=64, kernel_size=3, stride=1, padding=1)  ,\n",
    "            nn.Conv3d(in_channels = 64, out_channels = 128, kernel_size = 3, stride = 1, padding = 1),\n",
    "            nn.Conv3d(in_channels = 128, out_channels = 256, kernel_size = 3, stride = 1, padding = 1)\n",
    "        )\n",
    "\n",
    "        self.rightConv = nn.Sequential(\n",
    "\n",
    "        )\n",
    "\n",
    "    def forward(self, state):\n",
    "        x = self.leftConv(state);        \n",
    "        pass\n",
    "\n",
    "sharedE = sharedEnvironment(state_dim=4, num_agents=2)\n",
    "testA3c = ActorCritic(state_dim=4, action_dim=7)\n",
    "\n",
    "print(sharedE.otherAgentsPos(0))\n",
    "\n",
    "env1 = sharedE.getEnv(0)\n",
    "\n"
   ]
  },
  {
   "cell_type": "code",
   "execution_count": null,
   "metadata": {},
   "outputs": [],
   "source": []
  },
  {
   "cell_type": "code",
   "execution_count": null,
   "metadata": {},
   "outputs": [],
   "source": []
  }
 ],
 "metadata": {
  "kernelspec": {
   "display_name": "myv",
   "language": "python",
   "name": "python3"
  },
  "language_info": {
   "codemirror_mode": {
    "name": "ipython",
    "version": 3
   },
   "file_extension": ".py",
   "mimetype": "text/x-python",
   "name": "python",
   "nbconvert_exporter": "python",
   "pygments_lexer": "ipython3",
   "version": "3.10.12"
  }
 },
 "nbformat": 4,
 "nbformat_minor": 2
}
