{
 "cells": [
  {
   "cell_type": "code",
   "execution_count": null,
   "metadata": {
    "ExecuteTime": {
     "end_time": "2024-02-18T07:26:58.119135600Z",
     "start_time": "2024-02-18T07:26:54.455938800Z"
    }
   },
   "outputs": [],
   "source": [
    "import matplotlib\n",
    "import torch\n",
    "import torch.nn as nn\n",
    "import torch.nn.functional as F\n",
    "import torch.optim as optim\n",
    "\n",
    "import numpy as np\n",
    "import matplotlib.pyplot as plt\n",
    "\n",
    "import GridWorld_env\n",
    "import gymnasium as gym\n",
    "import random\n",
    "import math\n",
    "from itertools import count\n",
    "\n",
    "device = \"cuda\" if torch.cuda.is_available() else \"cpu\"\n",
    "is_ipython = \"inline\" in matplotlib.get_backend()\n",
    "if is_ipython:\n",
    "    from IPython import display"
   ]
  },
  {
   "cell_type": "code",
   "execution_count": null,
   "metadata": {
    "ExecuteTime": {
     "end_time": "2024-02-18T07:26:58.143094100Z",
     "start_time": "2024-02-18T07:26:58.121315300Z"
    }
   },
   "outputs": [],
   "source": [
    "from collections import deque, namedtuple\n",
    "\n",
    "Transition = namedtuple(\"Transition\", (\"state\", \"action\", \"next_state\", \"reward\"))\n",
    "\n",
    "class ReplayBuffer(object):\n",
    "    def __init__(self, capacity) -> None:\n",
    "        self.memory = deque([], maxlen=capacity)\n",
    "    \n",
    "    def push(self, *args):\n",
    "        self.memory.append(Transition(*args))\n",
    "        \n",
    "    def sample(self, batch_size):\n",
    "        return random.sample(self.memory, batch_size)\n",
    "    \n",
    "    def __len__(self):\n",
    "        return len(self.memory)\n",
    "    "
   ]
  },
  {
   "cell_type": "code",
   "execution_count": null,
   "metadata": {
    "ExecuteTime": {
     "end_time": "2024-02-18T07:27:02.790442700Z",
     "start_time": "2024-02-18T07:26:58.135653400Z"
    }
   },
   "outputs": [],
   "source": [
    "class DQN(nn.Module):\n",
    "    def __init__(self, input_dim, action_dim):\n",
    "        super(DQN, self).__init__()\n",
    "        self.in_conv = nn.Conv3d(3, 32, 3, 1, 1)\n",
    "        \n",
    "        self.conv1 = nn.Sequential(\n",
    "            nn.Conv3d(32, 32, 3, 1, 1),\n",
    "            nn.ReLU(),\n",
    "            nn.Conv3d(32, 32, 3, 1, 1),            \n",
    "        )\n",
    "        \n",
    "        self.conv2 = nn.Sequential(\n",
    "            nn.Conv3d(32, 32, 3, 1, 1),\n",
    "            nn.ReLU(),\n",
    "            nn.Conv3d(32, 32, 3, 1, 1),         \n",
    "        )\n",
    "        \n",
    "        self.conv3 = nn.Sequential(\n",
    "            nn.Conv3d(32, 32, 3, 1, 1),\n",
    "            nn.ReLU(),\n",
    "            nn.Conv3d(32, 32, 3, 1, 1),         \n",
    "        )\n",
    "        \n",
    "        self.fc1 = nn.Linear((32 + 3)*input_dim * input_dim * input_dim, 512)\n",
    "        self.actions = nn.Linear(512, action_dim)\n",
    "        self.advantage = nn.Linear(512, 1)\n",
    "    def forward(self, x):\n",
    "        original_state = x\n",
    "        \n",
    "        x = self.in_conv(x)\n",
    "        \n",
    "        x = x + self.conv1(x)\n",
    "        \n",
    "        x = F.relu(x)\n",
    "        \n",
    "        x = x + self.conv2(x)\n",
    "        x = F.relu(x)\n",
    "\n",
    "        x = x + self.conv3(x)\n",
    "        x = F.relu(x)\n",
    "        \n",
    "        x = torch.cat([x, original_state], dim=1)\n",
    "        x = nn.Flatten()(x)\n",
    "        x = self.fc1(x)\n",
    "        x = F.relu(x)\n",
    "        actions = self.actions(x)\n",
    "        advantage = self.advantage(x)\n",
    "        x = advantage + (actions - actions.mean())\n",
    "        return x\n",
    "\n",
    "test = DQN(8, 7)\n",
    "import torchinfo\n",
    "torchinfo.summary(test, (1, 3, 8, 8, 8))"
   ]
  },
  {
   "cell_type": "code",
   "execution_count": null,
   "metadata": {
    "ExecuteTime": {
     "end_time": "2024-02-18T07:27:04.029846100Z",
     "start_time": "2024-02-18T07:27:02.786115900Z"
    }
   },
   "outputs": [],
   "source": [
    "BATCH_SIZE = 32\n",
    "GAMMA = 0.85\n",
    "EPS_START = 0.9\n",
    "EPS_END = 0.05\n",
    "EPS_DECAY = 1000\n",
    "TAU = 0.005\n",
    "STEPSIZE = 0.0000625\n",
    "\n",
    "n_actions = 7\n",
    "env = gym.make(\"GridWorld_env/GridWorld\", dimension_size=4)\n",
    "env.reset()\n",
    "\n",
    "policy_net = DQN(4, 7)\n",
    "target_net = DQN(4, 7)\n",
    "\n",
    "policy_net.cuda()\n",
    "target_net.cuda()\n",
    "target_net.load_state_dict(policy_net.state_dict())\n",
    "\n",
    "optimiser = optim.Adam(policy_net.parameters(), lr=STEPSIZE, eps=1.5e-4)\n",
    "memory = ReplayBuffer(256)\n",
    "\n",
    "steps_done = 0"
   ]
  },
  {
   "cell_type": "code",
   "execution_count": null,
   "metadata": {
    "ExecuteTime": {
     "end_time": "2024-02-18T07:27:04.051361100Z",
     "start_time": "2024-02-18T07:27:04.034108500Z"
    }
   },
   "outputs": [],
   "source": [
    "def select_action(state, greedy = False):\n",
    "    global steps_done\n",
    "    \n",
    "    sample = random.random()\n",
    "    eps_threshold = EPS_END + (EPS_START - EPS_END) * math.exp(-1. * steps_done / EPS_DECAY)\n",
    "    steps_done += 1\n",
    "    \n",
    "    if greedy:\n",
    "        return policy_net(state).max(1).indices.view(1,1)\n",
    "        \n",
    "    if sample > eps_threshold:\n",
    "        with torch.no_grad():\n",
    "            return policy_net(state).max(1).indices.view(1,1)\n",
    "    else:\n",
    "        return torch.tensor([[env.action_space.sample()]], device=device, dtype=torch.long)\n",
    "    "
   ]
  },
  {
   "cell_type": "code",
   "execution_count": null,
   "metadata": {
    "ExecuteTime": {
     "end_time": "2024-02-18T07:27:04.072901500Z",
     "start_time": "2024-02-18T07:27:04.051361100Z"
    }
   },
   "outputs": [],
   "source": [
    "episode_durations = []\n",
    "\n",
    "def plot_durations(show_result = False):\n",
    "    plt.figure(1)\n",
    "    durations_t = torch.tensor(episode_durations, dtype=torch.float)\n",
    "    if show_result:\n",
    "        plt.title(\"Result\")\n",
    "    else:\n",
    "        plt.clf()\n",
    "        plt.title(\"Training\")\n",
    "    plt.xlabel(\"Episode\")\n",
    "    plt.ylabel(\"Duration\")\n",
    "    \n",
    "    plt.plot(durations_t.numpy())\n",
    "    \n",
    "    if len(durations_t) >= 100:\n",
    "        means = durations_t.unfold(0, 100, 1).mean(1).view(-1)\n",
    "        means = torch.cat((torch.zeros(99), means))\n",
    "        plt.plot(means.numpy())\n",
    "        \n",
    "        plt.pause(0.001)\n",
    "        if is_ipython:\n",
    "            if not show_result:\n",
    "                display.display(plt.gcf())\n",
    "                display.clear_output(wait=True)\n",
    "            else:\n",
    "                display.display(plt.gcf())\n",
    "                "
   ]
  },
  {
   "cell_type": "code",
   "execution_count": null,
   "metadata": {
    "ExecuteTime": {
     "end_time": "2024-02-18T07:28:31.706240Z",
     "start_time": "2024-02-18T07:28:31.654838Z"
    }
   },
   "outputs": [],
   "source": [
    "def optimise_model():\n",
    "    if len(memory) < BATCH_SIZE:\n",
    "        return 0, 0\n",
    "    transitions = memory.sample(BATCH_SIZE)\n",
    "    \n",
    "    batch = Transition(*zip(*transitions))\n",
    "    \n",
    "    non_final_mask = torch.tensor(tuple(map(lambda s: s is not None, batch.next_state)), device=device, dtype=torch.bool)\n",
    "    non_final_next_states = torch.cat([s for s in batch.next_state if s is not None])\n",
    "    \n",
    "    state_batch = torch.cat(batch.state)\n",
    "    action_batch = torch.cat(batch.action)\n",
    "    reward_batch = torch.cat(batch.reward)\n",
    "    \n",
    "    state_action_values = policy_net(state_batch).gather(1, action_batch)\n",
    "    next_state_values = torch.zeros(BATCH_SIZE, device = device)\n",
    "    \n",
    "    #double dqn\n",
    "    max_a = policy_net(non_final_next_states).detach().max(1).indices\n",
    "    next_state_values[non_final_mask] = target_net(non_final_next_states).detach().gather(1, max_a.unsqueeze(1)).squeeze(1)\n",
    "    #next_state_values[non_final_mask] = target_net(non_final_next_states).max(1).values\n",
    "    \n",
    "    expected_state_action_values = GAMMA * next_state_values + reward_batch\n",
    "    expected_state_action_values = expected_state_action_values.detach()\n",
    "    criterion = nn.MSELoss()\n",
    "    loss = criterion(state_action_values, expected_state_action_values.unsqueeze(1))\n",
    "    \n",
    "    optimiser.zero_grad()\n",
    "    loss.backward()\n",
    "    torch.nn.utils.clip_grad_value_(policy_net.parameters(), 100)\n",
    "    optimiser.step()\n",
    "    \n",
    "    return loss.item(), reward_batch.float()\n",
    "        "
   ]
  },
  {
   "cell_type": "code",
   "execution_count": null,
   "metadata": {
    "ExecuteTime": {
     "end_time": "2024-02-18T07:33:11.246887600Z",
     "start_time": "2024-02-18T07:31:52.333919700Z"
    }
   },
   "outputs": [],
   "source": [
    "if torch.cuda.is_available():\n",
    "    num_episodes = 500\n",
    "else:\n",
    "    num_episodes = 50\n",
    "\n",
    "for i_episode in range(num_episodes):\n",
    "    # Initialize the environment and get its state\n",
    "    state, info = env.reset()\n",
    "    state = torch.tensor(state, dtype=torch.float32, device=device).unsqueeze(0)\n",
    "    for t in count():\n",
    "        action = select_action(state)\n",
    "        observation, reward, terminated, truncated, _ = env.step(action.item())\n",
    "        reward = torch.tensor([reward], device=device)\n",
    "        done = terminated or truncated\n",
    "\n",
    "        if terminated:\n",
    "            next_state = None\n",
    "        else:\n",
    "            next_state = torch.tensor(observation, dtype=torch.float32, device=device).unsqueeze(0)\n",
    "\n",
    "        # Store the transition in memory\n",
    "        memory.push(state, action, next_state, reward)\n",
    "\n",
    "        # Move to the next state\n",
    "        state = next_state\n",
    "\n",
    "        # Perform one step of the optimization (on the policy network)\n",
    "        l, r = optimise_model()\n",
    "\n",
    "        # Soft update of the target network's weights\n",
    "        # θ′ ← τ θ + (1 −τ )θ′\n",
    "        target_net_state_dict = target_net.state_dict()\n",
    "        policy_net_state_dict = policy_net.state_dict()\n",
    "        for key in policy_net_state_dict:\n",
    "            target_net_state_dict[key] = policy_net_state_dict[key]*TAU + target_net_state_dict[key]*(1-TAU)\n",
    "        # Pretty sure we don't have to load_state_dict bc target_net_state_dict is already\n",
    "        # a reference to the actual dict.\n",
    "        # TODO: Actually test this out\n",
    "        # Yes, it's faster\n",
    "        # target_net.load_state_dict(target_net_state_dict)\n",
    "        \n",
    "        if done:\n",
    "            episode_durations.append(t + 1)\n",
    "            plot_durations()\n",
    "            break\n",
    "    if i_episode % 30 == 0:\n",
    "        print(\"Episode: {0} Loss {1} Mean Sample Reward {2}:\" .format(i_episode, l, r.mean().item()))\n",
    "        print(env.unwrapped.get_sequence())\n",
    "        env.unwrapped.render()\n",
    "print('Complete')\n",
    "plot_durations(show_result=True)\n",
    "plt.ioff()\n",
    "plt.show()\n"
   ]
  },
  {
   "cell_type": "code",
   "execution_count": null,
   "metadata": {},
   "outputs": [],
   "source": [
    "torch.save(policy_net, \"policy_converged.pt\")\n",
    "torch.save(target_net, \"target_converged.pt\")\n",
    "\n",
    "torch"
   ]
  },
  {
   "cell_type": "code",
   "execution_count": null,
   "metadata": {},
   "outputs": [],
   "source": [
    "state, info = env.reset()\n",
    "state = torch.tensor(state, dtype=torch.float32, device=device).unsqueeze(0)\n",
    "for t in count():\n",
    "    action = select_action(state, greedy = True)\n",
    "    observation, reward, terminated, truncated, _ = env.step(action.item())\n",
    "    reward = torch.tensor([reward], device=device)\n",
    "    done = terminated or truncated\n",
    "\n",
    "    if terminated:\n",
    "        next_state = None\n",
    "    else:\n",
    "        next_state = torch.tensor(observation, dtype=torch.float32, device=device).unsqueeze(0)\n",
    "\n",
    "    # Store the transition in memory\n",
    "    #memory.push(state, action, next_state, reward)\n",
    "\n",
    "    # Move to the next state\n",
    "    state = next_state\n",
    "    if terminated or truncated:\n",
    "        break\n",
    "    env.unwrapped.render()\n",
    "\n",
    "    # Perform one step of the optimization (on the policy network)\n"
   ]
  },
  {
   "cell_type": "code",
   "execution_count": null,
   "metadata": {},
   "outputs": [],
   "source": [
    "env.reset()\n",
    "state = env.get_obs()\n",
    "state = torch.tensor(state, dtype=torch.float32, device=device).unsqueeze(0)\n",
    "\n",
    "target_net(state)"
   ]
  },
  {
   "cell_type": "code",
   "execution_count": null,
   "metadata": {},
   "outputs": [],
   "source": [
    "env.step(3)\n",
    "env.render()\n",
    "state = env.get_obs()\n",
    "state = torch.tensor(state, dtype=torch.float32, device=device).unsqueeze(0)\n",
    "\n",
    "policy_net(state)"
   ]
  },
  {
   "cell_type": "code",
   "execution_count": null,
   "metadata": {},
   "outputs": [],
   "source": [
    "torch.save(policy_net, \"policy.pt\")"
   ]
  },
  {
   "cell_type": "code",
   "execution_count": null,
   "metadata": {},
   "outputs": [],
   "source": [
    "torch.save(target_net, \"target.pt\")"
   ]
  }
 ],
 "metadata": {
  "kernelspec": {
   "display_name": "Python 3",
   "language": "python",
   "name": "python3"
  },
  "language_info": {
   "codemirror_mode": {
    "name": "ipython",
    "version": 3
   },
   "file_extension": ".py",
   "mimetype": "text/x-python",
   "name": "python",
   "nbconvert_exporter": "python",
   "pygments_lexer": "ipython3",
   "version": "3.10.10"
  }
 },
 "nbformat": 4,
 "nbformat_minor": 2
}
