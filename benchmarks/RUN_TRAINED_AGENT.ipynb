{
 "cells": [
  {
   "cell_type": "code",
   "execution_count": null,
   "metadata": {},
   "outputs": [],
   "source": [
    "import matplotlib\n",
    "import torch\n",
    "import torch.nn as nn\n",
    "import torch.nn.functional as F\n",
    "import torch.optim as optim\n",
    "\n",
    "import numpy as np\n",
    "import matplotlib.pyplot as plt\n",
    "import GridWorld_env\n",
    "from replay_buffer import ReplayBuffer\n",
    "import gymnasium as gym\n",
    "import random\n",
    "import math\n",
    "from itertools import count\n",
    "\n",
    "device = \"cuda\" if torch.cuda.is_available() else \"cpu\"\n",
    "is_ipython = \"inline\" in matplotlib.get_backend()\n",
    "if is_ipython:\n",
    "    from IPython import display\n",
    "    \n",
    "from collections import deque, namedtuple\n",
    "\n",
    "Transition = namedtuple(\"Transition\", (\"state\", \"action\", \"next_state\", \"reward\"))"
   ]
  },
  {
   "cell_type": "code",
   "execution_count": null,
   "metadata": {},
   "outputs": [],
   "source": [
    "class Vanilla_DQN(nn.Module):\n",
    "    def __init__(self, input_dim, action_dim):\n",
    "        super(Vanilla_DQN, self).__init__()\n",
    "               \n",
    "        self.conv1 = nn.Conv3d(3, 29, 3, 1, 1)\n",
    "        \n",
    "        self.conv2 = nn.Conv3d(32, 67, 3, 1, 1)\n",
    "        \n",
    "        self.fc1 = nn.Linear((64 + 3*2)*input_dim * input_dim * input_dim, 1024)\n",
    "        \n",
    "        self.actions = nn.Linear(1024, action_dim)\n",
    "        self.advantage = nn.Linear(1024, 1)\n",
    "    def forward(self, x):\n",
    "        original_state = x\n",
    "               \n",
    "        x = self.conv1(x)\n",
    "        \n",
    "        x = torch.cat([x, original_state], dim=1)\n",
    "        x = F.relu(x)\n",
    "        \n",
    "        x = self.conv2(x)\n",
    "        x = torch.cat([x, original_state], dim=1)\n",
    "        \n",
    "        x = F.relu(x)\n",
    "        x = nn.Flatten()(x)\n",
    "        x = self.fc1(x)\n",
    "        x = F.relu(x)\n",
    "        actions = self.actions(x)\n",
    "        \n",
    "        return actions\n"
   ]
  },
  {
   "cell_type": "code",
   "execution_count": null,
   "metadata": {},
   "outputs": [],
   "source": [
    "n_actions = 8\n",
    "env = gym.make(\"GridWorld_env/GridWorld\", dimension_size=4, path=\"targets\")\n",
    "env.reset()\n",
    "\n",
    "policy_net = Vanilla_DQN(4, 8)\n",
    "target_net = Vanilla_DQN(4, 8)"
   ]
  },
  {
   "cell_type": "code",
   "execution_count": null,
   "metadata": {},
   "outputs": [],
   "source": [
    "policy_net = torch.load(\"../dqn_models/vanilla/vanilla_dqn_policy.pt\")\n",
    "target_net = torch.load(\"../dqn_models/vanilla/vanilla_dqn_target.pt\")\n"
   ]
  },
  {
   "cell_type": "code",
   "execution_count": null,
   "metadata": {},
   "outputs": [],
   "source": [
    "def select_action(state, greedy = False):\n",
    "    \n",
    "    with torch.no_grad():\n",
    "        return policy_net(state).max(1).indices.view(1,1)\n",
    "        \n",
    "    if sample > eps_threshold:\n",
    "        with torch.no_grad():\n",
    "            return policy_net(state).max(1).indices.view(1,1)\n",
    "    else:\n",
    "        return torch.tensor([[env.action_space.sample()]], device=device, dtype=torch.long)\n",
    "    "
   ]
  },
  {
   "cell_type": "code",
   "execution_count": null,
   "metadata": {},
   "outputs": [],
   "source": [
    "state, info = env.reset()\n",
    "state = torch.tensor(state, dtype=torch.float32, device=device).unsqueeze(0)\n",
    "for t in range(50):\n",
    "    action = select_action(state, greedy = True)\n",
    "    observation, reward, terminated, truncated, _ = env.step(action.item())\n",
    "    reward = torch.tensor([reward], device=device)\n",
    "    done = terminated or truncated\n",
    "\n",
    "    if terminated:\n",
    "        next_state = None\n",
    "    else:\n",
    "        next_state = torch.tensor(observation, dtype=torch.float32, device=device).unsqueeze(0)\n",
    "\n",
    "    state = next_state\n",
    "    if terminated or truncated:\n",
    "        break\n",
    "    env.unwrapped.render()\n",
    "    display.clear_output(wait=True)\n",
    "\n",
    "    \n"
   ]
  }
 ],
 "metadata": {
  "kernelspec": {
   "display_name": "Python 3",
   "language": "python",
   "name": "python3"
  },
  "language_info": {
   "name": "python",
   "version": "3.11.2"
  }
 },
 "nbformat": 4,
 "nbformat_minor": 2
}
